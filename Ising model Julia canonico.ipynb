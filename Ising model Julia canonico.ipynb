{
 "cells": [
  {
   "cell_type": "code",
   "execution_count": 1,
   "metadata": {},
   "outputs": [
    {
     "name": "stderr",
     "output_type": "stream",
     "text": [
      "WARNING: Method definition describe(AbstractArray) in module StatsBase at /home/rafael/.julia/v0.5/StatsBase/src/scalarstats.jl:560 overwritten in module DataFrames at /home/rafael/.julia/v0.5/DataFrames/src/abstractdataframe/abstractdataframe.jl:407.\n"
     ]
    }
   ],
   "source": [
    "using Gadfly"
   ]
  },
  {
   "cell_type": "markdown",
   "metadata": {},
   "source": [
    "##Parámetros del sistema"
   ]
  },
  {
   "cell_type": "code",
   "execution_count": 62,
   "metadata": {},
   "outputs": [
    {
     "data": {
      "text/plain": [
       "\"/home/rafael/Documentos/Tesis/Programas/Servicio social/resultados_canonico/\""
      ]
     },
     "execution_count": 62,
     "metadata": {},
     "output_type": "execute_result"
    },
    {
     "name": "stderr",
     "output_type": "stream",
     "text": [
      "WARNING: both Gadfly and Base export \"cross\"; uses of it in module Main must be qualified\n"
     ]
    }
   ],
   "source": [
    "#Aquí se pueden hacer cambios para realizar varios muestreos\n",
    "side = 50\n",
    "size = side*side\n",
    "#ntrials = convert(Int64, trunc(side^3.5)) # Es buena idea que vaya como side^3 pero tal vez requiera más\n",
    "ntrials = side^4\n",
    "nsamples = size # Periodo en el cual se realizan medidas\n",
    "j_ising = -1.0\n",
    "#t_env = 2.0\n",
    "temp_range = linspace(0.1, 4, 40)\n",
    "directory = pwd()*\"/resultados_canonico/\""
   ]
  },
  {
   "cell_type": "code",
   "execution_count": 3,
   "metadata": {},
   "outputs": [
    {
     "data": {
      "text/plain": [
       "change_spin (generic function with 1 method)"
      ]
     },
     "execution_count": 3,
     "metadata": {},
     "output_type": "execute_result"
    }
   ],
   "source": [
    "function change_spin()\n",
    "    return rand(Int32[-1, 1])\n",
    "end"
   ]
  },
  {
   "cell_type": "code",
   "execution_count": 4,
   "metadata": {},
   "outputs": [
    {
     "data": {
      "text/plain": [
       "initialize (generic function with 1 method)"
      ]
     },
     "execution_count": 4,
     "metadata": {},
     "output_type": "execute_result"
    }
   ],
   "source": [
    "function initialize(side::Int, t_env)\n",
    "    # A bajas temperaturas inicia como un estado base a T = 0 sugerido en el Newman\n",
    "    # A altas temperaturas inicia como en T = ∞, aleatorio\n",
    "    if t_env <= 2.1\n",
    "        if rand() < 0.5\n",
    "            spins = ones(Int32, side*side)\n",
    "        else\n",
    "            spins = -ones(Int32, side*side)\n",
    "        end\n",
    "    else\n",
    "        spins = rand(Int32[-1, 1], side*side)\n",
    "    end\n",
    "    neighbors = Vector{Vector{Int64}}(side*side)\n",
    "    # Para hacerlo en más dimensiones seguro se puede recurrir a la recursión\n",
    "    for jj in 0:(side-1)\n",
    "        for ii in 0:(side-1)\n",
    "            index = jj*side + ii + 1\n",
    "            #pos[index] = index\n",
    "            #neighbors[index] = [mod(jj + col, side)*side + mod(ii + row, side) + 1 \n",
    "            #    for col in -1:1 for row in -1:1]\n",
    "            #Todos los vecinos laterales y diagonales\n",
    "            all_nbs = Set([mod(jj + col, side)*side + mod(ii + row, side) + 1 \n",
    "                for col in -1:1 for row in -1:1])\n",
    "            # Vecinos diagonales\n",
    "            diag_nbs = Set([mod(jj + col, side)*side + mod(ii + row, side) + 1 \n",
    "                for col in [-1,1] for row in [-1,1]])\n",
    "            #Diferencia simétrica (también se quita el espín central)\n",
    "            neighbors[index] = collect(symdiff(all_nbs, diag_nbs, index))\n",
    "        end\n",
    "    end\n",
    "    #pos = reshape(pos, side, side)\n",
    "    #return pos, spin, neighbors\n",
    "    return spins, neighbors\n",
    "end\n",
    "                                        "
   ]
  },
  {
   "cell_type": "code",
   "execution_count": 5,
   "metadata": {},
   "outputs": [
    {
     "data": {
      "text/plain": [
       "montecarlo_cycle (generic function with 1 method)"
      ]
     },
     "execution_count": 5,
     "metadata": {},
     "output_type": "execute_result"
    }
   ],
   "source": [
    "# Solo está el detalle de si dividir la energía solamente entre 2\n",
    "function montecarlo_cycle(size, spins, neighbors, trials::Int, nsamples, j_ising, t_env)\n",
    "    #new_system = deepcopy(system)\n",
    "    nerrors = 0\n",
    "    energies = Float64[]\n",
    "    magnets = Float64[]\n",
    "    e1 = 0.0\n",
    "    for jj in 1:size\n",
    "        neighbors_spins = spins[neighbors[jj]] #Lista de los espines vecinos\n",
    "        e1 = e1 + potential_energy(spins[jj], neighbors_spins, j_ising) \n",
    "    end\n",
    "    e1 = e1/2.0\n",
    "    push!(energies, e1/size)\n",
    "    push!(magnets, magnetization(spins)/size)\n",
    "    for ii in 1:trials\n",
    "        #try\n",
    "         #   new_system = montecarlo(size, spins, j_ising, t_env)\n",
    "        #catch err\n",
    "        #    nerrors += 1\n",
    "        #    continue\n",
    "        #end\n",
    "        #spins, energy_diff = montecarlo(size, spins, neighbors, j_ising, t_env) \n",
    "        energy_change = montecarlo!(size, spins, neighbors, j_ising, t_env) \n",
    "        e1 = e1 + energy_change\n",
    "        #sample(new_system)\n",
    "    \n",
    "        if ii%nsamples == 0\n",
    "            #e1 = 0.0\n",
    "            #for jj in 1:size\n",
    "            #    neighbors_spins = spins[neighbors[jj]]\n",
    "                #e1 += potential_energy(spins[jj], neighbors_spins, j_ising)/2.0\n",
    "            #end\n",
    "            push!(energies, e1/size)\n",
    "            push!(magnets, magnetization(spins)/size)\n",
    "        end\n",
    "    end\n",
    "    return energies, magnets, nerrors\n",
    "end"
   ]
  },
  {
   "cell_type": "code",
   "execution_count": 6,
   "metadata": {},
   "outputs": [
    {
     "data": {
      "text/plain": [
       "montecarlo! (generic function with 1 method)"
      ]
     },
     "execution_count": 6,
     "metadata": {},
     "output_type": "execute_result"
    }
   ],
   "source": [
    "#function montecarlo(system, delta)\n",
    "function montecarlo!(size, spins, neighbors, j_ising, t_env)    \n",
    "    ii = rand(1:size)\n",
    "    neighbors_spins = spins[neighbors[ii]] #Lista de los espines vecinos\n",
    "    \n",
    "    old_energy = potential_energy(spins[ii], neighbors_spins, j_ising)\n",
    "    \n",
    "    #En la simulación en el canónico, como solo se voltea el espín central,\n",
    "    #resulta que trial_energy = -old_energy, así que no es necesario calcularla\n",
    "    trial_spin = -spins[ii]\n",
    "    #trial_energy = potential_energy(trial_spin, neighbors_spins, j_ising)\n",
    "\n",
    "    energy_diff = -2.0*old_energy\n",
    "    energy_change = 0.0\n",
    "    # Y hay maneras de optimizar más guardando listas de todas las posibles energías\n",
    "    # Pero lo dejaré así\n",
    "    if metropolis_step(energy_diff/t_env)\n",
    "        spins[ii] = trial_spin\n",
    "        energy_change = energy_diff\n",
    "    end\n",
    "    #return spins, energy_change\n",
    "    return energy_change\n",
    "end"
   ]
  },
  {
   "cell_type": "raw",
   "metadata": {},
   "source": [
    "#Calcular alguna propiedad importante del sistema\n",
    "def sample(system):\n",
    "    pass"
   ]
  },
  {
   "cell_type": "code",
   "execution_count": 7,
   "metadata": {},
   "outputs": [
    {
     "data": {
      "text/plain": [
       "potential_energy (generic function with 1 method)"
      ]
     },
     "execution_count": 7,
     "metadata": {},
     "output_type": "execute_result"
    }
   ],
   "source": [
    "# usé @code_warntype después de poner neighbors_spins{Vector{Int64}} y spins{Float64} y no arrojó problemas\n",
    "function potential_energy(central_spin, neighbors_spins, j_ising::Float64)\n",
    "    #convol_mat = [0, 1, 0, 1, 0, 1, 0, 1, 0]\n",
    "    #convol_mat describe cuáles vecinos sí interactúan con el espín de interés.\n",
    "    #La multiplicación entrada por entrada elige cuáles espines sí interactúan.\n",
    "    #sum_energies = 0\n",
    "    #for ii in 1:9\n",
    "        #sum_energies = sum_energies + neighbors_spins[ii]*convol_mat[ii]\n",
    "    #end\n",
    "    #return j_ising*central_spin*sum(neighbors_spins.*convol_mat)\n",
    "    return j_ising*central_spin*sum(neighbors_spins)\n",
    "end"
   ]
  },
  {
   "cell_type": "code",
   "execution_count": 8,
   "metadata": {},
   "outputs": [
    {
     "data": {
      "text/plain": [
       "magnetization (generic function with 1 method)"
      ]
     },
     "execution_count": 8,
     "metadata": {},
     "output_type": "execute_result"
    }
   ],
   "source": [
    "function magnetization(spins)\n",
    "    return sum(spins)\n",
    "end"
   ]
  },
  {
   "cell_type": "code",
   "execution_count": 9,
   "metadata": {},
   "outputs": [
    {
     "data": {
      "text/plain": [
       "metropolis_step (generic function with 1 method)"
      ]
     },
     "execution_count": 9,
     "metadata": {},
     "output_type": "execute_result"
    }
   ],
   "source": [
    "#Da lo mismo si se usa directamente la exponencial\n",
    "#function metropolis_step(exp_arg::Float64)\n",
    "function metropolis_step(exp_arg)\n",
    "    \"\"\"\n",
    "    Returns True if the trial configuration goes towards a region with higher probability\n",
    "    or it is given the chance to explore regions with fewer probability\n",
    "    \"\"\"\n",
    "    if exp_arg < 0.0\n",
    "        return true # Se actualiza el estado del sistema\n",
    "    else\n",
    "        w = exp(-exp_arg)\n",
    "        if rand() < w # Energía: w\n",
    "            return true # También se actualiza el estado del sistema\n",
    "        else\n",
    "            return false\n",
    "        end\n",
    "    end\n",
    "end"
   ]
  },
  {
   "cell_type": "markdown",
   "metadata": {},
   "source": [
    "### Lo que sigue ya podría ser el programa principal"
   ]
  },
  {
   "cell_type": "markdown",
   "metadata": {},
   "source": [
    "t_env = 0.2\n",
    "spins, neighbors = initialize(side, t_env)\n",
    "spins"
   ]
  },
  {
   "cell_type": "markdown",
   "metadata": {},
   "source": [
    "t_env = 3.1\n",
    "@time energies, magnets, errors = montecarlo_cycle(size, spins, neighbors, ntrials, nsamples, j_ising, t_env)\n",
    "#@code_warntype montecarlo_cycle(size, spins, neighbors, ntrials, nsamples, j_ising, t_env)"
   ]
  },
  {
   "cell_type": "code",
   "execution_count": 10,
   "metadata": {},
   "outputs": [],
   "source": [
    "#16.825072 seconds (185.02 M allocations: 3.969 GB, 11.25% gc time) 50x50 \n",
    "#53.057456 seconds (431.00 M allocations: 11.074 GB, 9.66% gc time) 70x70\n",
    "#9.436672 seconds (97.47 M allocations: 2.477 GB, 10.70% gc time) 50x50 cuidando estabilidad de tipos?\n",
    "#38.520118 seconds (379.18 M allocations: 9.586 GB, 10.52% gc time) 70x70 estabilidad\n",
    "#3.248812 seconds (31.27 M allocations: 1.491 GB, 11.32% gc time) 50x50 añadiendo neighbors a los argumentos jajaja\n",
    "#13.972363 seconds (120.07 M allocations: 5.725 GB, 10.29% gc time) 70x70\n",
    "#60s con una lattice de 100x100\n",
    "#0.17 s 20x20\n",
    "#2.712848 seconds (18.76 M allocations: 858.700 MB, 11.53% gc time) 50x50 a comparar con python\n",
    " #2.117595 seconds (18.76 M allocations: 858.700 MB, 12.52% gc time) 50x50 usando -2*old_energy\n",
    "#1.792926 seconds (12.51 M allocations: 667.965 MB, 6.56% gc time) sin tener que volver a colocar spins"
   ]
  },
  {
   "cell_type": "markdown",
   "metadata": {},
   "source": [
    "#println(t2-t1)\n",
    "#println(energies)\n",
    "energies"
   ]
  },
  {
   "cell_type": "markdown",
   "metadata": {},
   "source": [
    "println(magnets)"
   ]
  },
  {
   "cell_type": "markdown",
   "metadata": {},
   "source": [
    "con 100*100 partículas y n*m iteraciones, no se termaliza :(\n",
    "dura 2.26 h y llega a u = -4,768 cuando debería llegar a -19,800\n",
    "por estas cosas debería usar FORTRAN"
   ]
  },
  {
   "cell_type": "code",
   "execution_count": 11,
   "metadata": {},
   "outputs": [
    {
     "data": {
      "text/plain": [
       "loop_over_temperatures (generic function with 1 method)"
      ]
     },
     "execution_count": 11,
     "metadata": {},
     "output_type": "execute_result"
    }
   ],
   "source": [
    "function loop_over_temperatures(temp_range, side, size, ntrials, nsamples, j_ising)\n",
    "    final_energies_mat = zeros(length(temp_range), 3)\n",
    "    final_magnets_mat = zeros(length(temp_range), 3)\n",
    "    for (jj, t_env) in enumerate(temp_range)\n",
    "        for ii in 1:3 #Realizar 3 ciclos por temperatura\n",
    "            spins, neighbors = initialize(side, t_env)\n",
    "            energies, magnets, errors = montecarlo_cycle(size, spins, neighbors, ntrials, nsamples, j_ising, t_env)\n",
    "            final_energies_mat[jj, ii] = energies[end]\n",
    "            final_magnets_mat[jj, ii] = magnets[end]\n",
    "        end\n",
    "    end\n",
    "    #final_energies = sum(final_energies_mat, 2)/3.0\n",
    "    #final_magnets = sum(final_magnets_mat, 2)/3.0\n",
    "    return final_energies_mat, final_magnets_mat\n",
    "end"
   ]
  },
  {
   "cell_type": "code",
   "execution_count": 12,
   "metadata": {},
   "outputs": [
    {
     "data": {
      "text/plain": [
       "(\n",
       "[-2.0 -2.0 -2.0; -2.0 -2.0 -2.0; … ; -0.5824 -0.5888 -0.5632; -0.5056 -0.48 -0.4864],\n",
       "\n",
       "[1.0 1.0 -1.0; 1.0 -1.0 1.0; … ; 0.036 -0.076 0.0448; -0.0624 -0.0288 -0.0024])"
      ]
     },
     "execution_count": 12,
     "metadata": {},
     "output_type": "execute_result"
    }
   ],
   "source": [
    "f_en, f_mag = loop_over_temperatures(temp_range, side, size, ntrials, nsamples, j_ising)"
   ]
  },
  {
   "cell_type": "code",
   "execution_count": 63,
   "metadata": {},
   "outputs": [],
   "source": [
    "writedlm(directory*\"energias.txt\", f_en)\n",
    "writedlm(directory*\"magnetizaciones.txt\", f_mag)"
   ]
  },
  {
   "cell_type": "code",
   "execution_count": 58,
   "metadata": {},
   "outputs": [],
   "source": [
    "en_layers = []\n",
    "mag_layers = []\n",
    "for ii in 1:3\n",
    "    append!(en_layers, layer(x=temp_range, y=f_en[:,ii], Geom.point))\n",
    "    append!(mag_layers, layer(x=temp_range, y=f_mag[:,ii], Geom.point))\n",
    "end"
   ]
  },
  {
   "cell_type": "code",
   "execution_count": 71,
   "metadata": {},
   "outputs": [],
   "source": [
    "en_plot = plot(en_layers..., Guide.title(\"Energías\"), Theme(background_color=\"white\"))\n",
    "img = PNG(directory*\"energias.png\", 6inch, 4inch)\n",
    "draw(img, en_plot)"
   ]
  },
  {
   "cell_type": "code",
   "execution_count": 73,
   "metadata": {},
   "outputs": [],
   "source": [
    "mag_plot = plot(mag_layers..., Guide.title(\"Magnetización\"), Theme(background_color=\"white\"))\n",
    "img = PNG(directory*\"magnetizaciones.png\", 6inch, 4inch)\n",
    "draw(img, mag_plot)"
   ]
  },
  {
   "cell_type": "code",
   "execution_count": null,
   "metadata": {},
   "outputs": [],
   "source": []
  }
 ],
 "metadata": {
  "kernelspec": {
   "display_name": "Julia 0.5.2",
   "language": "julia",
   "name": "julia-0.5"
  },
  "language_info": {
   "file_extension": ".jl",
   "mimetype": "application/julia",
   "name": "julia",
   "version": "0.5.2"
  }
 },
 "nbformat": 4,
 "nbformat_minor": 2
}
