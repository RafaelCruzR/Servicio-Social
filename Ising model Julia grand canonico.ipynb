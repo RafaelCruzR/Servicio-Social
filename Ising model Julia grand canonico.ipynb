{
 "cells": [
  {
   "cell_type": "code",
   "execution_count": 2,
   "metadata": {},
   "outputs": [],
   "source": [
    "#using Gadfly, ColorTypes"
   ]
  },
  {
   "cell_type": "code",
   "execution_count": 3,
   "metadata": {},
   "outputs": [],
   "source": [
    "using StatsBase"
   ]
  },
  {
   "cell_type": "code",
   "execution_count": 23,
   "metadata": {},
   "outputs": [
    {
     "name": "stderr",
     "output_type": "stream",
     "text": [
      "WARNING: redefining constant direc\n"
     ]
    },
    {
     "data": {
      "text/plain": [
       "\"/home/rafael/Documentos/Tesis/Programas/Servicio social/ising_gc2/\""
      ]
     },
     "execution_count": 23,
     "metadata": {},
     "output_type": "execute_result"
    }
   ],
   "source": [
    "#Aquí se pueden hacer cambios para realizar varios muestreos\n",
    "side = 50\n",
    "size = side^2\n",
    "init_nmols = 300\n",
    "@assert init_nmols <= size \"init_nmols > size\" #Comprobar que no haya más partículas que sitios\n",
    "ntrials = convert(Int, floor(side^4))# Es buena idea que vaya como n^3\n",
    "#ntrials = 120\n",
    "nsamples = size\n",
    "#nsamples = 1\n",
    "j_ising = -1.0\n",
    "μ = 0.0\n",
    "t_env = 0.7\n",
    "zz = exp(μ/t_env)/sqrt(t_env^3)\n",
    "iters = 6\n",
    "temperatures = linspace(0.5, 5, 10)\n",
    "const direc = pwd()*\"/ising_gc2/\""
   ]
  },
  {
   "cell_type": "code",
   "execution_count": 5,
   "metadata": {},
   "outputs": [
    {
     "data": {
      "text/plain": [
       "change_spin (generic function with 1 method)"
      ]
     },
     "execution_count": 5,
     "metadata": {},
     "output_type": "execute_result"
    }
   ],
   "source": [
    "function change_spin()\n",
    "    return rand(Int32[-1, 1])\n",
    "end"
   ]
  },
  {
   "cell_type": "code",
   "execution_count": 6,
   "metadata": {},
   "outputs": [
    {
     "data": {
      "text/plain": [
       "initialize (generic function with 1 method)"
      ]
     },
     "execution_count": 6,
     "metadata": {},
     "output_type": "execute_result"
    }
   ],
   "source": [
    "function initialize(side, init_nmols)\n",
    "\n",
    "    spins = Vector{Int32}(side*side)\n",
    "    neighbors = Vector{Vector{Int64}}(side*side)\n",
    "    occupancy = Vector{Bool}(side*side)\n",
    "\n",
    "    # Seleccionar partículas iniciales: init_mols es una lista\n",
    "    init_mols = sample(1:(side*side), init_nmols, replace = false)\n",
    "    for jj in 1:side\n",
    "        for ii in 1:side\n",
    "            index = (jj-1)*side + ii\n",
    "            spins[index] = change_spin()\n",
    "            # Definir los índices de los vecinos\n",
    "            upper = mod(jj, side)*side + ii\n",
    "            lower = mod(jj - 2, side)*side + ii\n",
    "            left  = (jj-1)*side + mod(ii - 2, side) + 1\n",
    "            right = (jj-1)*side + mod(ii, side) + 1 \n",
    "            neighbors[index] = Int64[upper, lower, left, right]\n",
    "            \n",
    "            #if index in init_mols\n",
    "            #    occupancy[index] = true\n",
    "            #else\n",
    "            #    occupancy[index] = false\n",
    "            #end\n",
    "            #Lo anterior se puede resumir en:\n",
    "            occupancy[index] = index in init_mols #Se usa el valor de verdad de la evaluación\n",
    "        end\n",
    "    end\n",
    "    \n",
    "    return spins, neighbors, occupancy\n",
    "end"
   ]
  },
  {
   "cell_type": "markdown",
   "metadata": {},
   "source": [
    "spins, neighbors, occupancy = initialize(side, init_nmols)"
   ]
  },
  {
   "cell_type": "code",
   "execution_count": 7,
   "metadata": {},
   "outputs": [
    {
     "data": {
      "text/plain": [
       "add_spin (generic function with 1 method)"
      ]
     },
     "execution_count": 7,
     "metadata": {},
     "output_type": "execute_result"
    }
   ],
   "source": [
    "function add_spin(occupancy)\n",
    "    free_sites = find(!occupancy)\n",
    "    if length(free_sites) == 0 # Si todos los sitios están ocupados\n",
    "        return -1\n",
    "    end\n",
    "    trial_idx = rand(free_sites)\n",
    "    return trial_idx\n",
    "end"
   ]
  },
  {
   "cell_type": "code",
   "execution_count": 8,
   "metadata": {},
   "outputs": [
    {
     "data": {
      "text/plain": [
       "delete_spin (generic function with 1 method)"
      ]
     },
     "execution_count": 8,
     "metadata": {},
     "output_type": "execute_result"
    }
   ],
   "source": [
    "function delete_spin(occupancy)\n",
    "    occupied_sites = find(occupancy)\n",
    "    if length(occupied_sites) == 0 # Si todos los sitios están vacíos\n",
    "        return -1\n",
    "    end\n",
    "    trial_idx = rand(occupied_sites)\n",
    "    return trial_idx\n",
    "end"
   ]
  },
  {
   "cell_type": "code",
   "execution_count": 9,
   "metadata": {},
   "outputs": [
    {
     "data": {
      "text/plain": [
       "move_spin (generic function with 1 method)"
      ]
     },
     "execution_count": 9,
     "metadata": {},
     "output_type": "execute_result"
    }
   ],
   "source": [
    "function move_spin(occupancy, size)\n",
    "    occupied_sites = find(occupancy)\n",
    "    # Si todos los sitios están  ocupados o  vacíos, no se puede realizar nada\n",
    "    if length(occupied_sites) in [size, 0] \n",
    "        return -1, -1\n",
    "    end\n",
    "    old_idx = rand(occupied_sites)\n",
    "    free_sites = find(!occupancy)\n",
    "    trial_idx = rand(free_sites)\n",
    "    return old_idx, trial_idx\n",
    "end"
   ]
  },
  {
   "cell_type": "code",
   "execution_count": 36,
   "metadata": {},
   "outputs": [
    {
     "name": "stderr",
     "output_type": "stream",
     "text": [
      "WARNING: Method definition montecarlo_cycle(Any, Any, Any, Any, Any, Any, Any, Any, Any) in module Main at In[10]:2 overwritten at In[36]:2.\n"
     ]
    },
    {
     "data": {
      "text/plain": [
       "montecarlo_cycle (generic function with 1 method)"
      ]
     },
     "execution_count": 36,
     "metadata": {},
     "output_type": "execute_result"
    }
   ],
   "source": [
    "function montecarlo_cycle(spins, neighbors, occupancy, size, ntrials, nsamples, j_ising, t_env, zz)\n",
    "    \"\"\"\n",
    "    Repeats many attepts to change the system and sample some quantities\n",
    "    \"\"\"\n",
    "    energies = Float64[]\n",
    "    magnet = Float64[] #Aquí porque estoy dividiendo\n",
    "    te = 0.0\n",
    "    for ii in 1:size\n",
    "        neighbors_spins = spins[neighbors[ii]].*occupancy[neighbors[ii]]\n",
    "        te = te + potential_energy(occupancy[ii]*spins[ii], neighbors_spins, j_ising)\n",
    "    end\n",
    "    te = te/2.0\n",
    "    push!(energies, te)\n",
    "    m1 = magnetization(spins)/size\n",
    "    push!(magnet, m1)\n",
    "    for ii in 1:ntrials\n",
    "        energy_change = montecarlo!(spins, neighbors, occupancy, size, j_ising, t_env, zz)\n",
    "        te += energy_change\n",
    "        #if ii >= trials_before_sample\n",
    "            #counter = 1\n",
    "        if ii%nsamples == 0\n",
    "                # Samples total magnetization\n",
    "            m1 = magnetization(spins)/size\n",
    "            push!(magnet, m1)\n",
    "                # Samples total energy\n",
    "            push!(energies, te)\n",
    "            #    counter += 1\n",
    "        end\n",
    "    end\n",
    "    return energies, magnet\n",
    "end"
   ]
  },
  {
   "cell_type": "code",
   "execution_count": 32,
   "metadata": {},
   "outputs": [
    {
     "name": "stderr",
     "output_type": "stream",
     "text": [
      "WARNING: Method definition montecarlo!(Any, Any, Any, Any, Any, Any, Any) in module Main at In[11]:2 overwritten at In[32]:2.\n"
     ]
    },
    {
     "data": {
      "text/plain": [
       "montecarlo! (generic function with 1 method)"
      ]
     },
     "execution_count": 32,
     "metadata": {},
     "output_type": "execute_result"
    }
   ],
   "source": [
    "function montecarlo!(spins, neighbors, occupancy, size, j_ising, t_env, zz)\n",
    "    \"\"\"\n",
    "    Tries to perform a change in the system, like changing a spin direction\n",
    "    \"\"\"\n",
    "    r = rand()\n",
    "    nmol = sum(occupancy)\n",
    "    \n",
    "    # añadir espín\n",
    "    if 0 <= r < 0.2\n",
    "        idx = add_spin(occupancy)\n",
    "        # Por si no hay espacios libres para añadir otro espín\n",
    "        if idx == -1\n",
    "            return 0.0\n",
    "        end\n",
    "        old_energy = 0.0\n",
    "        trial_spin = change_spin()\n",
    "        neighbors_spins = spins[neighbors[idx]].*occupancy[neighbors[idx]]\n",
    "        trial_energy = potential_energy(trial_spin, neighbors_spins, j_ising)\n",
    "        energy_diff = trial_energy - old_energy\n",
    "        energy_change = 0.0\n",
    "        if metropolis_step(energy_diff/t_env - log(zz*size/(nmol + 1)))\n",
    "            occupancy[idx] = true\n",
    "            spins[idx] = trial_spin\n",
    "            energy_change = energy_diff\n",
    "#        else\n",
    "#            occupancy[idx] = false\n",
    "        end\n",
    "        #println(\"¿Se añadió? \", metropolis_step(energy_diff/t_env - log(zz*size/(nmol + 1))),\n",
    "        #    \"   Cambio por añadir: \", energy_change)\n",
    "        \n",
    "    # remover espín\n",
    "    elseif 0.2 <= r < 0.4\n",
    "        idx = delete_spin(occupancy)\n",
    "        # Por si no quedan espines en el sistema\n",
    "        if idx == -1\n",
    "            return 0.0\n",
    "        end\n",
    "        neighbors_spins = spins[neighbors[idx]].*occupancy[neighbors[idx]]\n",
    "        old_energy = potential_energy(spins[idx], neighbors_spins, j_ising)\n",
    "        trial_energy = 0.0\n",
    "        energy_diff = trial_energy - old_energy\n",
    "        energy_change = 0.0\n",
    "        if metropolis_step(energy_diff/t_env - log(nmol/(zz*size)))\n",
    "            occupancy[idx] = false\n",
    "            energy_change = energy_diff\n",
    "        end\n",
    "        #println(\"¿Se removió? \", metropolis_step(energy_diff/t_env - log(zz*size/(nmol + 1))),\n",
    "        #    \"   Cambio por remover: \", energy_change)        \n",
    "    \n",
    "    # mover espín a posición vacía aleatoria\n",
    "    elseif 0.4 <= r < 0.7\n",
    "        old_idx, trial_idx = move_spin(occupancy, size)\n",
    "        # Por si no hay espacios para mover un espín\n",
    "        if old_idx == -1\n",
    "            return 0.0\n",
    "        end\n",
    "        old_neighbors_spins = spins[neighbors[old_idx]].*occupancy[neighbors[old_idx]]\n",
    "        old_energy = potential_energy(spins[old_idx], old_neighbors_spins, j_ising)\n",
    "        \n",
    "        #Estos dos se cambian por si se mueve a un sitio vecino\n",
    "        occupancy[old_idx] = false\n",
    "        occupancy[trial_idx] = true\n",
    "        \n",
    "        trial_neighbors_spins = spins[neighbors[trial_idx]].*occupancy[neighbors[trial_idx]]\n",
    "        trial_energy = potential_energy(spins[old_idx], trial_neighbors_spins, j_ising)\n",
    "        \n",
    "        energy_diff = trial_energy - old_energy\n",
    "        energy_change = 0.0\n",
    "        if metropolis_step(energy_diff/t_env)\n",
    "            #occupancy[old_idx] = false\n",
    "            spins[trial_idx] = spins[old_idx]\n",
    "            #occupancy[trial_idx] = true\n",
    "            energy_change = energy_diff\n",
    "        else\n",
    "            # Si se intentó mover a un sitio vecino y no se aceptó el movimiento,\n",
    "            # se regresan a sus valores originales\n",
    "            occupancy[old_idx] = true\n",
    "            occupancy[trial_idx] = false\n",
    "        end\n",
    "        #println(\"¿Se movió? \", metropolis_step(energy_diff/t_env - log(zz*size/(nmol + 1))),\n",
    "        #    \"   Cambio por mover: \", energy_change)\n",
    "    \n",
    "    # Solamente cambiar el espín (creo que sí es necesario)\n",
    "    else\n",
    "        idx = delete_spin(occupancy) #Porque encuentra los sitios ocupados\n",
    "        if idx == -1\n",
    "            return 0.0\n",
    "        end\n",
    "        neighbors_spins = spins[neighbors[idx]].*occupancy[neighbors[idx]]\n",
    "    \n",
    "        old_energy = potential_energy(spins[idx], neighbors_spins, j_ising)\n",
    "        trial_spin = -spins[idx]\n",
    "        trial_energy = potential_energy(trial_spin, neighbors_spins, j_ising)\n",
    "\n",
    "        energy_diff = trial_energy - old_energy\n",
    "        energy_change = 0.0\n",
    "        if metropolis_step(energy_diff/t_env)\n",
    "            spins[idx] = trial_spin\n",
    "            energy_change = energy_diff\n",
    "        end\n",
    "        #println(\"¿Se volteó? \", metropolis_step(energy_diff/t_env - log(zz*size/(nmol + 1))),\n",
    "        #    \"   Cambio por voltear: \", energy_change)\n",
    "    end\n",
    "    return energy_change\n",
    "end"
   ]
  },
  {
   "cell_type": "code",
   "execution_count": 12,
   "metadata": {},
   "outputs": [
    {
     "data": {
      "text/plain": [
       "potential_energy (generic function with 1 method)"
      ]
     },
     "execution_count": 12,
     "metadata": {},
     "output_type": "execute_result"
    }
   ],
   "source": [
    "# usé @code_warntype después de poner neighbors_spins{Vector{Int64}} y spins{Float64} y no arrojó problemas\n",
    "function potential_energy(central_spin, neighbors_spins, j_ising::Float64)\n",
    "    #convol_mat = [0, 1, 0, 1, 0, 1, 0, 1, 0]\n",
    "    #convol_mat describe cuáles vecinos sí interactúan con el espín de interés.\n",
    "    #La multiplicación entrada por entrada elige cuáles espines sí interactúan.\n",
    "    #sum_energies = 0\n",
    "    #for ii in 1:9\n",
    "        #sum_energies = sum_energies + neighbors_spins[ii]*convol_mat[ii]\n",
    "    #end\n",
    "    #return j_ising*central_spin*sum(neighbors_spins.*convol_mat)\n",
    "    return j_ising*central_spin*sum(neighbors_spins)\n",
    "end"
   ]
  },
  {
   "cell_type": "code",
   "execution_count": 13,
   "metadata": {},
   "outputs": [
    {
     "data": {
      "text/plain": [
       "magnetization (generic function with 1 method)"
      ]
     },
     "execution_count": 13,
     "metadata": {},
     "output_type": "execute_result"
    }
   ],
   "source": [
    "function magnetization(spins)\n",
    "    return sum(spins)\n",
    "end"
   ]
  },
  {
   "cell_type": "code",
   "execution_count": 14,
   "metadata": {},
   "outputs": [
    {
     "data": {
      "text/plain": [
       "metropolis_step (generic function with 1 method)"
      ]
     },
     "execution_count": 14,
     "metadata": {},
     "output_type": "execute_result"
    }
   ],
   "source": [
    "function metropolis_step(exp_arg)\n",
    "    \"\"\"\n",
    "    Returns True if the trial configuration goes towards a region with higher probability\n",
    "    or it is given the chance to explore regions with fewer probability\n",
    "    \"\"\"\n",
    "    if exp_arg < 0.0\n",
    "        return true # Se actualiza el estado del sistema\n",
    "    else\n",
    "        w = exp(-exp_arg)\n",
    "        if rand() < w # Energía: w\n",
    "            return true # También se actualiza el estado del sistema\n",
    "        else\n",
    "            return false\n",
    "        end\n",
    "    end\n",
    "end"
   ]
  },
  {
   "cell_type": "markdown",
   "metadata": {},
   "source": [
    "### Lo que sigue ya podría ser el programa principal"
   ]
  },
  {
   "cell_type": "markdown",
   "metadata": {},
   "source": [
    "function init_loop(temperatures)\n",
    "    energies_per_temp = Vector()\n",
    "    magnets_per_temp = Vector()\n",
    "    for temp in temperatures\n",
    "        ens_energies = Vector{Float64}()\n",
    "        ens_magnets = Vector{Float64}()\n",
    "        for ii in 1:iters\n",
    "            spins, neighbors, occupancy = initialize(side, init_nmols)\n",
    "            spins, occupancy, energies, magnet = montecarlo_cycle(spins, neighbors, occupancy, size, ntrials, nsamples, t_env, zz)\n",
    "            ens_energy = sum(energies)/length(energies)\n",
    "            ens_magnet = sum(magnet)/length(energies)\n",
    "            push!(ens_energies, ens_energy)\n",
    "            push!(ens_magnets, ens_magnet)\n",
    "        end\n",
    "    push!(energies_per_temp, ens_energies)\n",
    "    push!(magnets_per_temp, ens_magnets)\n",
    "    end\n",
    "    return energies_per_temp, magnets_per_temp\n",
    "end"
   ]
  },
  {
   "cell_type": "code",
   "execution_count": 37,
   "metadata": {},
   "outputs": [
    {
     "data": {
      "text/plain": [
       "2500-element Array{Int32,1}:\n",
       " -1\n",
       " -1\n",
       "  1\n",
       "  1\n",
       " -1\n",
       "  1\n",
       " -1\n",
       "  1\n",
       " -1\n",
       "  1\n",
       "  1\n",
       " -1\n",
       " -1\n",
       "  ⋮\n",
       "  1\n",
       " -1\n",
       " -1\n",
       " -1\n",
       " -1\n",
       "  1\n",
       " -1\n",
       " -1\n",
       "  1\n",
       "  1\n",
       "  1\n",
       "  1"
      ]
     },
     "execution_count": 37,
     "metadata": {},
     "output_type": "execute_result"
    }
   ],
   "source": [
    "spins, neighbors, occupancy = initialize(side, init_nmols)\n",
    "spins"
   ]
  },
  {
   "cell_type": "code",
   "execution_count": 38,
   "metadata": {},
   "outputs": [
    {
     "data": {
      "text/plain": [
       "2500-element Array{Bool,1}:\n",
       "  true\n",
       " false\n",
       " false\n",
       " false\n",
       " false\n",
       " false\n",
       " false\n",
       " false\n",
       " false\n",
       " false\n",
       " false\n",
       " false\n",
       " false\n",
       "     ⋮\n",
       " false\n",
       " false\n",
       "  true\n",
       "  true\n",
       "  true\n",
       " false\n",
       "  true\n",
       "  true\n",
       " false\n",
       " false\n",
       " false\n",
       " false"
      ]
     },
     "execution_count": 38,
     "metadata": {},
     "output_type": "execute_result"
    }
   ],
   "source": [
    "occupancy"
   ]
  },
  {
   "cell_type": "code",
   "execution_count": 39,
   "metadata": {
    "scrolled": true
   },
   "outputs": [
    {
     "name": "stdout",
     "output_type": "stream",
     "text": [
      "123.816129 seconds (35.75 M allocations: 98.203 GB, 7.09% gc time)\n"
     ]
    },
    {
     "data": {
      "text/plain": [
       "([-7.0,-305.0,-720.0,-1239.0,-1787.0,-2371.0,-3087.0,-3452.0,-3528.0,-3660.0  …  -4764.0,-4768.0,-4768.0,-4764.0,-4764.0,-4768.0,-4764.0,-4760.0,-4764.0,-4764.0],[0.0504,0.0328,0.012,-0.0104,-0.0368,-0.048,-0.0456,-0.0568,-0.0584,-0.0568  …  -0.0056,-0.0104,-0.0104,-0.0096,-0.0088,-0.0104,-0.012,-0.0112,-0.0136,-0.0128])"
      ]
     },
     "execution_count": 39,
     "metadata": {},
     "output_type": "execute_result"
    }
   ],
   "source": [
    "#spins, occupancy, energies, magnet = montecarlo_cycle((spins, neighbors, occupancy, size, ntrials, nsamples, t_env, zz)\n",
    "@time energies, magnet = montecarlo_cycle(spins, neighbors, occupancy, size, ntrials, nsamples, j_ising, t_env, zz)\n",
    "#@code_warntype montecarlo_cycle(spins, neighbors, occupancy, size, ntrials, nsamples, j_ising, t_env, zz)\n",
    "# Me parece que lo rojo significa que la función montecarlo no devuelve variables del mismo tipo.\n",
    "# En este caso devuelve ::Union{Array{Bool,1},Array{Int32,1},Float64} y no sé si debería cambiar eso"
   ]
  },
  {
   "cell_type": "code",
   "execution_count": 40,
   "metadata": {},
   "outputs": [],
   "source": [
    "#7.876384 seconds (7.42 M allocations: 1.642 GB, 4.56% gc time) 20x20 anterior y no siempre llegaba al mínimo de energía\n",
    "#0.702974 seconds (1.05 M allocations: 465.859 MB, 14.16% gc time) 20x20 nuevo y esta vez llegó al mínimo de energía\n",
    "#2.116618 seconds (2.51 M allocations: 1.113 GB, 11.64% gc time) 20x20 con side^4.3\n",
    "#114.139761 seconds (47.22 M allocations: 98.459 GB, 6.78% gc time) 50x50 y casi alcanza el mínimo con ntrials = side^4\n",
    "#401.833861 seconds (151.47 M allocations: 318.393 GB, 7.07% gc time) 50x50 con ntrials^4.3 y le falta"
   ]
  },
  {
   "cell_type": "code",
   "execution_count": 41,
   "metadata": {},
   "outputs": [
    {
     "data": {
      "text/plain": [
       "2500-element Array{Int32,1}:\n",
       " -1\n",
       " -1\n",
       " -1\n",
       " -1\n",
       " -1\n",
       " -1\n",
       " -1\n",
       " -1\n",
       " -1\n",
       " -1\n",
       " -1\n",
       " -1\n",
       " -1\n",
       "  ⋮\n",
       "  1\n",
       "  1\n",
       "  1\n",
       " -1\n",
       " -1\n",
       " -1\n",
       " -1\n",
       " -1\n",
       " -1\n",
       " -1\n",
       " -1\n",
       " -1"
      ]
     },
     "execution_count": 41,
     "metadata": {},
     "output_type": "execute_result"
    }
   ],
   "source": [
    "spins"
   ]
  },
  {
   "cell_type": "code",
   "execution_count": 42,
   "metadata": {},
   "outputs": [
    {
     "data": {
      "text/plain": [
       "2500-element Array{Bool,1}:\n",
       " true\n",
       " true\n",
       " true\n",
       " true\n",
       " true\n",
       " true\n",
       " true\n",
       " true\n",
       " true\n",
       " true\n",
       " true\n",
       " true\n",
       " true\n",
       "    ⋮\n",
       " true\n",
       " true\n",
       " true\n",
       " true\n",
       " true\n",
       " true\n",
       " true\n",
       " true\n",
       " true\n",
       " true\n",
       " true\n",
       " true"
      ]
     },
     "execution_count": 42,
     "metadata": {},
     "output_type": "execute_result"
    }
   ],
   "source": [
    "occupancy"
   ]
  },
  {
   "cell_type": "code",
   "execution_count": 43,
   "metadata": {},
   "outputs": [
    {
     "data": {
      "text/plain": [
       "2501-element Array{Float64,1}:\n",
       "  0.0504\n",
       "  0.0328\n",
       "  0.012 \n",
       " -0.0104\n",
       " -0.0368\n",
       " -0.048 \n",
       " -0.0456\n",
       " -0.0568\n",
       " -0.0584\n",
       " -0.0568\n",
       " -0.0624\n",
       " -0.0664\n",
       " -0.08  \n",
       "  ⋮     \n",
       " -0.0032\n",
       " -0.0048\n",
       " -0.0056\n",
       " -0.0104\n",
       " -0.0104\n",
       " -0.0096\n",
       " -0.0088\n",
       " -0.0104\n",
       " -0.012 \n",
       " -0.0112\n",
       " -0.0136\n",
       " -0.0128"
      ]
     },
     "execution_count": 43,
     "metadata": {},
     "output_type": "execute_result"
    }
   ],
   "source": [
    "magnet"
   ]
  },
  {
   "cell_type": "code",
   "execution_count": 44,
   "metadata": {},
   "outputs": [
    {
     "data": {
      "text/plain": [
       "2501-element Array{Float64,1}:\n",
       "    -7.0\n",
       "  -305.0\n",
       "  -720.0\n",
       " -1239.0\n",
       " -1787.0\n",
       " -2371.0\n",
       " -3087.0\n",
       " -3452.0\n",
       " -3528.0\n",
       " -3660.0\n",
       " -3732.0\n",
       " -3812.0\n",
       " -3858.0\n",
       "     ⋮  \n",
       " -4768.0\n",
       " -4768.0\n",
       " -4764.0\n",
       " -4768.0\n",
       " -4768.0\n",
       " -4764.0\n",
       " -4764.0\n",
       " -4768.0\n",
       " -4764.0\n",
       " -4760.0\n",
       " -4764.0\n",
       " -4764.0"
      ]
     },
     "execution_count": 44,
     "metadata": {},
     "output_type": "execute_result"
    }
   ],
   "source": [
    "energies"
   ]
  },
  {
   "cell_type": "markdown",
   "metadata": {},
   "source": [
    "max_nmols = ncols*mrows\n",
    "splist = Vector(max_nmols)\n",
    "splist2 = Vector(max_nmols)\n",
    "for ii in 1:max_nmols\n",
    "    splist[ii] = particles[ii].spin*particles[ii].occupancy\n",
    "    splist2[ii] = new_particles[ii].spin*new_particles[ii].occupancy\n",
    "end"
   ]
  },
  {
   "cell_type": "markdown",
   "metadata": {},
   "source": [
    "sys_img = spy(reshape(splist, ncols, mrows), Theme(background_color = \"white\"))\n",
    "img = SVG(direc*\"Configuración inicial.svg\", 9inch, 6inch)\n",
    "draw(img, sys_img)"
   ]
  },
  {
   "cell_type": "markdown",
   "metadata": {},
   "source": [
    "sys_img2 = spy(reshape(splist2, ncols, mrows), Theme(background_color = \"white\"))\n",
    "img2 = SVG(direc*\"Configuración final.svg\", 9inch, 6inch)\n",
    "draw(img2, sys_img2)"
   ]
  },
  {
   "cell_type": "markdown",
   "metadata": {
    "collapsed": true
   },
   "source": [
    "descenso = plot(x = linspace(0, 240, length(energies)), y = energies, \n",
    "    Guide.title(\"Descenso de energía para Metropolis MC 100x100\"),\n",
    "    Theme(background_color = \"white\"))\n",
    "draw(PNG(direc*\"Descenso de energía para Metropolis MC 100x100\", 8inch, 6inch), descenso)"
   ]
  },
  {
   "cell_type": "markdown",
   "metadata": {},
   "source": [
    "@time avg_energies, avg_magnets = init_loop(temperatures)"
   ]
  },
  {
   "cell_type": "markdown",
   "metadata": {},
   "source": [
    "x_axis = vcat([temp*ones(iters) for temp in temperatures]...)\n",
    "y_energies = vcat(avg_energies...)\n",
    "eg1 = plot(x = x_axis, y = y_energies,\n",
    "    Guide.xlabel(\"Temperatura\"), Guide.ylabel(\"Energía\"),\n",
    "    Guide.title(\"E vs T para el modelo de Ising de \"*string(ncols)*\"x\"*string(ncols)*\" con J = -1\"),\n",
    "    Theme(background_color = RGB(1,1,1)))"
   ]
  },
  {
   "cell_type": "markdown",
   "metadata": {},
   "source": [
    "y_magnets = vcat(avg_magnets...)\n",
    "mg1 = plot(x = x_axis, y = y_magnets,\n",
    "    Guide.xlabel(\"Temperatura\"), Guide.ylabel(\"Magnetización\"),\n",
    "    Guide.title(\"M vs T para el modelo de Ising de \"*string(ncols)*\"x\"*string(ncols)*\" con J = -1\"),\n",
    "    Theme(background_color = RGB(1,1,1)))"
   ]
  },
  {
   "cell_type": "markdown",
   "metadata": {},
   "source": [
    "writedlm(direc*\"ising_gc.txt\", energies)"
   ]
  },
  {
   "cell_type": "markdown",
   "metadata": {},
   "source": [
    "en = plot(x = 1:4000:length(energies), y = energies[1:4000:end], \n",
    "    Guide.title(\"Grand Canonical Montecarlo\"), \n",
    "    Theme(background_color = \"white\"))\n",
    "img3 = SVG(direc*\"energías.svg\", 9inch, 6inch)\n",
    "draw(img3, en)"
   ]
  },
  {
   "cell_type": "code",
   "execution_count": null,
   "metadata": {},
   "outputs": [],
   "source": []
  }
 ],
 "metadata": {
  "kernelspec": {
   "display_name": "Julia 0.5.2",
   "language": "julia",
   "name": "julia-0.5"
  },
  "language_info": {
   "file_extension": ".jl",
   "mimetype": "application/julia",
   "name": "julia",
   "version": "0.5.2"
  }
 },
 "nbformat": 4,
 "nbformat_minor": 2
}
