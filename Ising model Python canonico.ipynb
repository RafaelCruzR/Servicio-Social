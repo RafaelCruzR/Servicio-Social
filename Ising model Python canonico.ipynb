{
 "cells": [
  {
   "cell_type": "code",
   "execution_count": 1,
   "metadata": {},
   "outputs": [],
   "source": [
    "# -*- coding: utf-8 -*-\n",
    "import math, random\n",
    "import time"
   ]
  },
  {
   "cell_type": "markdown",
   "metadata": {},
   "source": [
    "## Parámetros del sistema"
   ]
  },
  {
   "cell_type": "code",
   "execution_count": 2,
   "metadata": {},
   "outputs": [],
   "source": [
    "side = 50\n",
    "size = side*side\n",
    "ntrials = side**4 # Es buena idea que vaya como n*m\n",
    "nsamples = size\n",
    "j_ising = -1.0\n",
    "t_env = 2.0"
   ]
  },
  {
   "cell_type": "markdown",
   "metadata": {},
   "source": [
    "## Funciones "
   ]
  },
  {
   "cell_type": "code",
   "execution_count": 3,
   "metadata": {},
   "outputs": [],
   "source": [
    "def change_spin():\n",
    "    return random.choice([-1, 1])"
   ]
  },
  {
   "cell_type": "code",
   "execution_count": 4,
   "metadata": {},
   "outputs": [],
   "source": [
    "def initialize(side):\n",
    "    spins = []\n",
    "    neighbors = []\n",
    "    for jj in range(side):\n",
    "        for ii in range(side):\n",
    "            index = jj*side + ii\n",
    "            spins.append(change_spin())\n",
    "            all_nbs = set([((jj + col)%side)*side + (ii + row)%side \n",
    "                for col in range(-1, 2) for row in range(-1, 2)])\n",
    "            diag_nbs = set([((jj + col)%side)*side + (ii + row)%side\n",
    "                for col in [-1, 1] for row in [-1, 1]])\n",
    "            neighbors.append(list(all_nbs - diag_nbs - {index}))\n",
    "    return spins, neighbors"
   ]
  },
  {
   "cell_type": "code",
   "execution_count": 5,
   "metadata": {},
   "outputs": [],
   "source": [
    "def montecarlo_cycle(size, spins, neighbors, ntrials, nsamples, j_ising, t_env):\n",
    "    nerrors = 0\n",
    "    energies = []\n",
    "    magnets = []\n",
    "    \n",
    "    te = 0.0\n",
    "    for jj in range(size):\n",
    "        nbs = neighbors[jj]\n",
    "        neighbors_spins = [spins[nb] for nb in nbs]\n",
    "        #neighbors_spins = spins[neighbors[jj]] #Lista de los espines vecinos\n",
    "        te = te + potential_energy(spins[jj], neighbors_spins, j_ising) \n",
    "    te = te/2.0\n",
    "    energies.append(te)\n",
    "    magnets.append(magnetization(spins))\n",
    "    \n",
    "    for ii in range(ntrials):\n",
    "        spins, energy_change = montecarlo(size, spins, neighbors, j_ising, t_env)\n",
    "        if ii%nsamples == 0:\n",
    "            energies.append(te)\n",
    "            magnets.append(magnetization(spins))\n",
    "    \n",
    "    return spins, energies, magnets, nerrors"
   ]
  },
  {
   "cell_type": "code",
   "execution_count": 6,
   "metadata": {},
   "outputs": [],
   "source": [
    "def montecarlo(size, spins, neighbors, j_ising, t_env):\n",
    "    ii = random.randint(0, size-1)\n",
    "    nbs = neighbors[ii] #Es mejor así que introduciéndolo directamente a la comprensión\n",
    "    neighbors_spins = [spins[nb] for nb in nbs]\n",
    "\n",
    "    old_energy = potential_energy(spins[ii], neighbors_spins, j_ising)\n",
    "    trial_spin = -spins[ii]\n",
    "    #trial_energy = potential_energy(trial_spin, neighbors_spins, j_ising)\n",
    "    #energy_diff = trial_energy - old_energy\n",
    "    energy_diff = -2.0*old_energy\n",
    "    energy_change = 0.0\n",
    "    if metropolis_step(energy_diff/t_env):\n",
    "        spins[ii] = trial_spin\n",
    "        energy_change = energy_diff\n",
    "    return spins, energy_change"
   ]
  },
  {
   "cell_type": "code",
   "execution_count": 7,
   "metadata": {},
   "outputs": [],
   "source": [
    "def potential_energy(central_spin, neighbors_spins, j_ising):\n",
    "    return j_ising*central_spin*sum(neighbors_spins)"
   ]
  },
  {
   "cell_type": "code",
   "execution_count": 8,
   "metadata": {},
   "outputs": [],
   "source": [
    "def magnetization(spins):\n",
    "    return sum(spins)"
   ]
  },
  {
   "cell_type": "code",
   "execution_count": 9,
   "metadata": {},
   "outputs": [],
   "source": [
    "def metropolis_step(exp_arg):\n",
    "    \"\"\"\n",
    "    Returns True if the trial configuration goes towards a region with higher probability\n",
    "    or it is given the chance to explore regions with fewer probability\n",
    "    \"\"\"\n",
    "    if exp_arg < 0.0: # Energía: w < 0\n",
    "        return True # Se actualiza el estado del sistema\n",
    "    else:\n",
    "        w = math.exp(-exp_arg)\n",
    "        if random.random() < w: # Energía: w\n",
    "            return True # También se actualiza el estado del sistema\n",
    "        else:\n",
    "            return False"
   ]
  },
  {
   "cell_type": "markdown",
   "metadata": {},
   "source": [
    "## Programa principal"
   ]
  },
  {
   "cell_type": "code",
   "execution_count": 10,
   "metadata": {},
   "outputs": [],
   "source": [
    "spins, neighbors = initialize(side)"
   ]
  },
  {
   "cell_type": "code",
   "execution_count": 11,
   "metadata": {},
   "outputs": [],
   "source": [
    "#spins, energy_change = montecarlo(size, spins, neighbors, j_ising, t_env)"
   ]
  },
  {
   "cell_type": "code",
   "execution_count": 12,
   "metadata": {},
   "outputs": [
    {
     "name": "stdout",
     "output_type": "stream",
     "text": [
      "39.17380952835083\n"
     ]
    }
   ],
   "source": [
    "t1 = time.time()\n",
    "spins, energies, magnets, nerrors = montecarlo_cycle(size, spins, neighbors, ntrials, nsamples, j_ising, t_env)\n",
    "t2 = time.time()\n",
    "print(t2-t1)"
   ]
  },
  {
   "cell_type": "code",
   "execution_count": 13,
   "metadata": {},
   "outputs": [],
   "source": [
    "#1.0985674858093262 s con 20x20 \n",
    "#45.51250720024109 s con 50x50\n",
    "#44.53565788269043 s 50x50 usando -2*old_energy sin tratar de optimizar con las listas de posibles valores de energías"
   ]
  }
 ],
 "metadata": {
  "kernelspec": {
   "display_name": "Python 3",
   "language": "python",
   "name": "python3"
  },
  "language_info": {
   "codemirror_mode": {
    "name": "ipython",
    "version": 3
   },
   "file_extension": ".py",
   "mimetype": "text/x-python",
   "name": "python",
   "nbconvert_exporter": "python",
   "pygments_lexer": "ipython3",
   "version": "3.6.6"
  }
 },
 "nbformat": 4,
 "nbformat_minor": 2
}
